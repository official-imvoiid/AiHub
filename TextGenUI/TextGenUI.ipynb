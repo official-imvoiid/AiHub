{
  "nbformat": 4,
  "nbformat_minor": 0,
  "metadata": {
    "colab": {
      "private_outputs": true,
      "provenance": [],
      "gpuType": "T4"
    },
    "kernelspec": {
      "name": "python3",
      "display_name": "Python 3"
    },
    "language_info": {
      "name": "python"
    },
    "accelerator": "GPU"
  },
  "cells": [
    {
      "cell_type": "markdown",
      "source": [
        "## **oobabooga/text-generation-webui**\n",
        "\n"
      ],
      "metadata": {
        "id": "MFQl6-FjSYtY"
      }
    },
    {
      "cell_type": "code",
      "source": [
        "#@title 🔄 Keep Colab Alive\n",
        "from IPython.display import display, HTML\n",
        "import time\n",
        "import threading\n",
        "import IPython\n",
        "\n",
        "def keep_alive_minimal():\n",
        "    display(HTML(\"\"\"\n",
        "    <div style=\"padding: 10px; background: #f8f9fa; border-radius: 5px; margin-bottom: 10px;\">\n",
        "        <p style=\"margin: 0; font-weight: bold; color: #4285f4;\">✓ Keep-Alive: Running</p>\n",
        "        <p style=\"margin: 5px 0 0 0; color: #5f6368; font-size: 0.9em;\">This cell prevents Colab from disconnecting you due to inactivity.</p>\n",
        "    </div>\n",
        "    <audio src=\"https://oobabooga.github.io/silence.m4a\" autoplay loop style=\"display: none;\"></audio>\n",
        "    \"\"\"))\n",
        "\n",
        "    # This runs in the background without producing output\n",
        "    def periodic_ping():\n",
        "        while True:\n",
        "            time.sleep(60)\n",
        "            # Invisible ping that doesn't create output\n",
        "            IPython.display.clear_output(wait=True)\n",
        "            display(HTML('<div style=\"display:none\">ping</div>'))\n",
        "\n",
        "    # Start the background thread\n",
        "    thread = threading.Thread(target=periodic_ping)\n",
        "    thread.daemon = True\n",
        "    thread.start()\n",
        "\n",
        "# Run the minimal version\n",
        "keep_alive_minimal()"
      ],
      "metadata": {
        "id": "f7TVVj_z4flw"
      },
      "execution_count": null,
      "outputs": []
    },
    {
      "cell_type": "code",
      "source": [
        "#@title  Clone text-generation-webui\n",
        "\n",
        "import os\n",
        "from pathlib import Path\n",
        "\n",
        "os.environ.pop('PYTHONPATH', None)\n",
        "os.environ.pop('MPLBACKEND', None)\n",
        "\n",
        "!git clone https://github.com/oobabooga/text-generation-webui\n",
        "%cd text-generation-webui\n",
        "\n",
        "# Install the project in an isolated environment\n",
        "!GPU_CHOICE=A \\\n",
        "LAUNCH_AFTER_INSTALL=FALSE \\\n",
        "INSTALL_EXTENSIONS=FALSE \\"
      ],
      "metadata": {
        "id": "LGQ8BiMuXMDG"
      },
      "execution_count": null,
      "outputs": []
    },
    {
      "cell_type": "markdown",
      "source": [
        "\n",
        "\n",
        "1.   NOTE: Select (A) When Asked For GPU As Colab Provides Nvidia GPU\n",
        "2.   NOTE : This script does not download model files. After launching, go to the Models tab and paste your Hugging Face model identifier\n",
        "\n",
        "\n",
        "\n",
        "        (e.g. OMP123/Dolphin-Mistral-24B-Venice-Edition-Q4_0-GGUF)\n",
        ""
      ],
      "metadata": {
        "id": "guGTMRlWxKrm"
      }
    },
    {
      "cell_type": "code",
      "source": [
        "#@title Launch Webui\n",
        "# Define command line flags (this was missing in the original code)\n",
        "command_line_flags = \"--share\"\n",
        "\n",
        "# Optional: Define output folder (if you're using a specific model)\n",
        "output_folder = \"\"  # Set this to your model folder if needed, otherwise leave empty\n",
        "\n",
        "# Start the web UI\n",
        "cmd = f\"./start_linux.sh {command_line_flags}\"\n",
        "if output_folder != \"\":\n",
        "    cmd += f\" --model {output_folder}\"\n",
        "\n",
        "print(f\"🚀 Starting web UI with command: {cmd}\")\n",
        "!$cmd"
      ],
      "metadata": {
        "cellView": "form",
        "id": "dDiqrUEauI39"
      },
      "execution_count": null,
      "outputs": []
    }
  ]
}