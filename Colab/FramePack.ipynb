{
  "nbformat": 4,
  "nbformat_minor": 0,
  "metadata": {
    "colab": {
      "provenance": [],
      "gpuType": "T4"
    },
    "kernelspec": {
      "name": "python3",
      "display_name": "Python 3"
    },
    "language_info": {
      "name": "python"
    },
    "accelerator": "GPU"
  },
  "cells": [
    {
      "cell_type": "code",
      "execution_count": null,
      "metadata": {
        "id": "RKo29UkjO-TW"
      },
      "outputs": [],
      "source": [
        "#@title Install Requirements.txt\n",
        "\n",
        "import os\n",
        "# Check if FramePack directory already exists\n",
        "if not os.path.exists('FramePack'):\n",
        "    print(\"FramePack directory not found. Cloning repository...\")\n",
        "    # Clone the FramePack repository\n",
        "    !git clone https://github.com/lllyasviel/FramePack.git\n",
        "    print(\"Repository cloned successfully!\")\n",
        "else:\n",
        "    print(\"FramePack directory already exists. Skipping clone.\")\n",
        "\n",
        "# Install the requirements\n",
        "print(\"Installing requirements...\")\n",
        "!pip install sageattention==1.0.6\n",
        "!pip install -r FramePack/requirements.txt\n",
        "print(\"Requirements installed successfully!\")"
      ]
    },
    {
      "cell_type": "markdown",
      "source": [
        "Configuration Guidelines\n",
        "* Total Video Length (Seconds): Set according to your requirements.\n",
        "\n",
        "* GPU Inference Preserved Memory (GB): Increase this value only if you encounter Out of Memory (OOM) errors. Note: Higher values reduce speed.\n",
        "\n",
        "* MP4 Compression: Avoid setting this too high, as it may result in black or corrupted video output.\n",
        "Compression level 16 is not supported on Colab Free.\n",
        "\n",
        "* This model utilizes BF16 precision.\n",
        "If you encounter related errors, it likely means Colab no longer supports BF16.\n",
        "Options: Run locally (requires at least 6GB VRAM, RTX 30/40/50 series), or Use RunPod (cost-effective and reliable alternative).\n",
        "\n"
      ],
      "metadata": {
        "id": "NK_0uerCDHdM"
      }
    },
    {
      "cell_type": "code",
      "source": [
        "#@title Run WebUI\n",
        "\n",
        "# Run the Gradio demo with sharing enabled\n",
        "!python /content/FramePack/demo_gradio.py --share"
      ],
      "metadata": {
        "id": "Mb3j0SR4QaSj"
      },
      "execution_count": null,
      "outputs": []
    },
    {
      "cell_type": "code",
      "source": [
        "# @title Download To Local PC\n",
        "\n",
        "import shutil\n",
        "import os\n",
        "from google.colab import files\n",
        "\n",
        "# Define the source directory and output zip file name\n",
        "source_dir = '/content/outputs'\n",
        "zip_filename = 'outputs'  # Don't include .zip extension here\n",
        "\n",
        "# Check if the source directory exists\n",
        "if os.path.exists(source_dir):\n",
        "    print(f\"Found directory: {source_dir}\")\n",
        "\n",
        "    # Create a zip file from the outputs directory\n",
        "    print(\"Creating ZIP archive...\")\n",
        "    shutil.make_archive(zip_filename, 'zip', source_dir)\n",
        "\n",
        "    # The actual zip file will be named outputs.zip\n",
        "    zip_file_path = f\"{zip_filename}.zip\"\n",
        "\n",
        "    print(f\"ZIP file created: {zip_file_path}\")\n",
        "    print(f\"File size: {os.path.getsize(zip_file_path) / (1024*1024):.2f} MB\")\n",
        "\n",
        "    # Download the zip file to local PC\n",
        "    print(\"Starting download...\")\n",
        "    files.download(zip_file_path)\n",
        "    print(\"Download initiated! Check your browser's download folder.\")\n",
        "\n",
        "else:\n",
        "    print(f\"Error: Directory {source_dir} does not exist!\")\n",
        "    print(\"Available directories in /content/:\")\n",
        "    for item in os.listdir('/content/'):\n",
        "        if os.path.isdir(f'/content/{item}'):\n",
        "            print(f\"  - {item}\")\n"
      ],
      "metadata": {
        "id": "rBwfD1jbaxYt"
      },
      "execution_count": null,
      "outputs": []
    },
    {
      "cell_type": "code",
      "source": [
        "#@title Remove Output Folder (IF REQUIRED)\n",
        "!rm -rf /content/outputs\n",
        "!rm -rf /content/outputs.zip"
      ],
      "metadata": {
        "id": "smPoIyspbGpF"
      },
      "execution_count": 6,
      "outputs": []
    }
  ]
}