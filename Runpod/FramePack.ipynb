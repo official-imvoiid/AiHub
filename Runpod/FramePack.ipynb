{
 "cells": [
  {
   "cell_type": "markdown",
   "id": "6f9f02a2",
   "metadata": {},
   "source": [
    "# Run FramePack in runpod\n",
    "# NoteBook Created by Voiid (https://github.com/official-imvoiid)"
   ]
  },
  {
   "cell_type": "code",
   "execution_count": null,
   "id": "3226640d-a22c-4408-909a-d947a9a223cc",
   "metadata": {},
   "outputs": [],
   "source": [
    "# Install FramePack requirements\n",
    "\n",
    "\n",
    "import os\n",
    "import subprocess\n",
    "import sys\n",
    "\n",
    "def run_command(command):\n",
    "    \"\"\"Run a shell command in Jupyter\"\"\"\n",
    "    try:\n",
    "        result = subprocess.run(command, shell=True, check=True, capture_output=True, text=True)\n",
    "        print(result.stdout)\n",
    "        if result.stderr:\n",
    "            print(f\"Warning: {result.stderr}\")\n",
    "        return True\n",
    "    except subprocess.CalledProcessError as e:\n",
    "        print(f\"Error running command: {command}\")\n",
    "        print(f\"Error output: {e.stderr}\")\n",
    "        return False\n",
    "\n",
    "# Check if FramePack directory already exists\n",
    "if not os.path.exists('FramePack'):\n",
    "    print(\"FramePack directory not found. Cloning repository...\")\n",
    "    run_command(\"git clone https://github.com/lllyasviel/FramePack.git\")\n",
    "    print(\"Repository cloned successfully!\")\n",
    "else:\n",
    "    print(\"FramePack directory already exists. Skipping clone.\")\n",
    "\n",
    "# Install the requirements\n",
    "print(\"Installing requirements...\")\n",
    "run_command(\"python -m pip install --upgrade pip\")\n",
    "run_command(\"pip install sageattention==1.0.6\")\n",
    "run_command(\"pip install -r FramePack/requirements.txt\")\n",
    "print(\"Requirements installed successfully!\")\n",
    "\n",
    "# To run the demo, execute this in a separate cell:\n",
    "print(\"\\nTo run the Programm, execute this in a separate cell:\")\n",
    "print(\"!python FramePack/demo_gradio.py --share\")"
   ]
  },
  {
   "cell_type": "markdown",
   "id": "a18050eb",
   "metadata": {},
   "source": [
    "# ⚙️ Setup Notes\n",
    "\n",
    "1. Initial Download: First install will download 30GB+ of files.\n",
    "2. TeaCache: Uncheck TeaCache if using a VRAM-rich GPU (e.g., A6000) on RunPod.\n",
    "3. Video Length: Set Total Video Length (Seconds) according to your choice.\n",
    "4. Preserved Memory: GPU Inference Preserved Memory (GB) — higher value slows processing. Default recommended: 6 GB.\n",
    "5. MP4 Compression: Lower value = higher quality.  \n",
    "   - 0 = uncompressed  \n",
    "   - 16 recommended if output video is black.\n",
    "\n",
    "📌 Recommended Setup:\n",
    "- GPU: A6000 Ada  \n",
    "- Storage: 70GB total  \n",
    "  - 50GB on persistent  \n",
    "  - 20GB on temporary"
   ]
  },
  {
   "cell_type": "code",
   "execution_count": null,
   "id": "7a5a8b38-e090-4596-ba77-870d5e4cb044",
   "metadata": {
    "scrolled": true
   },
   "outputs": [],
   "source": [
    "# Start FramePack\n",
    "\n",
    "!python FramePack/demo_gradio.py --share"
   ]
  }
 ],
 "metadata": {
  "kernelspec": {
   "display_name": "Python 3 (ipykernel)",
   "language": "python",
   "name": "python3"
  },
  "language_info": {
   "codemirror_mode": {
    "name": "ipython",
    "version": 3
   },
   "file_extension": ".py",
   "mimetype": "text/x-python",
   "name": "python",
   "nbconvert_exporter": "python",
   "pygments_lexer": "ipython3",
   "version": "3.11.10"
  }
 },
 "nbformat": 4,
 "nbformat_minor": 5
}
