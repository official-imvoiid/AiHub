{
 "cells": [
  {
   "cell_type": "markdown",
   "id": "2c474cac",
   "metadata": {},
   "source": [
    "# Run RVC in runpod\n",
    "# NoteBook Created by Voiid (https://github.com/official-imvoiid)"
   ]
  },
  {
   "cell_type": "code",
   "execution_count": null,
   "id": "bb6dda8e-8013-4c72-9254-e69a7cf7ac91",
   "metadata": {},
   "outputs": [],
   "source": [
    "# Clone Repository\n",
    "\n",
    "import os\n",
    "%cd /workspace/\n",
    "repository_url = \"https://github.com/ddPn08/rvc-webui.git\"\n",
    "webui_branch = \"main\"\n",
    "\n",
    "# Check if rvc-webui directory already exists\n",
    "if os.path.exists('/workspace/rvc-webui'):\n",
    "    print(\"rvc-webui already exists, skipping clone...\")\n",
    "    %cd /workspace/rvc-webui\n",
    "    # Optionally update the existing repo\n",
    "    ! git pull origin {webui_branch}\n",
    "else:\n",
    "    print(\"rvc-webui not found, cloning repository...\")\n",
    "    ! git clone {repository_url}\n",
    "    %cd /workspace/rvc-webui"
   ]
  },
  {
   "cell_type": "code",
   "execution_count": null,
   "id": "0b757f1a-f5bb-4f2a-9112-f4514b64cdb5",
   "metadata": {},
   "outputs": [],
   "source": [
    "# Initialize Environment\n",
    "\n",
    "import os\n",
    "conda_dir = \"/opt/conda\"\n",
    "conda_bin = os.path.join(conda_dir, \"bin\", \"conda\")\n",
    "\n",
    "if not os.path.exists(conda_bin):\n",
    "    ! curl -O https://repo.anaconda.com/miniconda/Miniconda3-py310_23.5.0-3-Linux-x86_64.sh\n",
    "    ! chmod +x Miniconda3-py310_23.5.0-3-Linux-x86_64.sh\n",
    "    ! bash ./Miniconda3-py310_23.5.0-3-Linux-x86_64.sh -b -f -p {conda_dir}\n",
    "    ! rm Miniconda3-py310_23.5.0-3-Linux-x86_64.sh\n",
    "\n",
    "def run_script(s):\n",
    "    ! {s}\n",
    "\n",
    "def make_args(d):\n",
    "    arguments = \"\"\n",
    "    for k, v in d.items():\n",
    "        if type(v) == bool:\n",
    "            arguments += f\"--{k} \" if v else \"\"\n",
    "        elif type(v) == str and v:\n",
    "            arguments += f\"--{k} \\\"{v}\\\" \"\n",
    "        elif v:\n",
    "            arguments += f\"--{k}={v} \"\n",
    "    return arguments\n",
    "\n",
    "if os.path.exists(\"requirments.txt\"):\n",
    "    ! mv requirments.txt requirements.txt"
   ]
  },
  {
   "cell_type": "markdown",
   "id": "0daa2aeb",
   "metadata": {},
   "source": [
    "📌 Recommended Setup:\n",
    "- GPU: A6000 Ada  \n",
    "- Storage: 70GB total  \n",
    "  - 50GB on persistent  \n",
    "  - 20GB on temporary"
   ]
  },
  {
   "cell_type": "code",
   "execution_count": null,
   "id": "d8b7bc48-928a-4a41-a8f2-63e15d61784c",
   "metadata": {},
   "outputs": [],
   "source": [
    "# Launch webui\n",
    "\n",
    "run_script(f\"\"\"\n",
    "eval \"$({conda_bin} shell.bash hook)\"\n",
    "python launch.py --share --host 0.0.0.0 --port 41130\n",
    "\"\"\")"
   ]
  }
 ],
 "metadata": {
  "kernelspec": {
   "display_name": "Python 3 (ipykernel)",
   "language": "python",
   "name": "python3"
  },
  "language_info": {
   "codemirror_mode": {
    "name": "ipython",
    "version": 3
   },
   "file_extension": ".py",
   "mimetype": "text/x-python",
   "name": "python",
   "nbconvert_exporter": "python",
   "pygments_lexer": "ipython3",
   "version": "3.11.10"
  }
 },
 "nbformat": 4,
 "nbformat_minor": 5
}
