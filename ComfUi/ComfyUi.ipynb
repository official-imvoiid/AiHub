{
  "nbformat": 4,
  "nbformat_minor": 0,
  "metadata": {
    "colab": {
      "provenance": [],
      "gpuType": "T4"
    },
    "kernelspec": {
      "name": "python3",
      "display_name": "Python 3"
    },
    "language_info": {
      "name": "python"
    },
    "accelerator": "GPU"
  },
  "cells": [
    {
      "cell_type": "markdown",
      "source": [
        "#**Check for GPU Availability**"
      ],
      "metadata": {
        "id": "wrx52s2axGM-"
      }
    },
    {
      "cell_type": "code",
      "source": [
        "import torch\n",
        "print(\"Checking GPU availability...\")\n",
        "if torch.cuda.is_available():\n",
        "    print(f\"✅ GPU is available: {torch.cuda.get_device_name(0)}\")\n",
        "else:\n",
        "    print(\"❌ No GPU detected! Please change runtime to GPU:\")\n",
        "    print(\"Runtime > Change runtime type > Hardware accelerator > GPU\")\n",
        "    raise RuntimeError(\"GPU not available\")\n",
        "\n",
        "# Install system dependencies\n",
        "!apt -q install -y libgl1-mesa-glx"
      ],
      "metadata": {
        "id": "rOmj0QhaEIfv"
      },
      "execution_count": null,
      "outputs": []
    },
    {
      "cell_type": "markdown",
      "source": [
        "#**Clone ComfyUI & Install Requirements**"
      ],
      "metadata": {
        "id": "jtZpHJlF3O02"
      }
    },
    {
      "cell_type": "code",
      "source": [
        "import os, sys, subprocess\n",
        "\n",
        "# ── 1) Reset to /content ──────────────────────────────────\n",
        "try:\n",
        "    os.chdir('/content')\n",
        "except Exception:\n",
        "    pass  # in case /content doesn't exist (it always does on Colab)\n",
        "\n",
        "# ── 2) Install cloudflared ─────────────────────────────────\n",
        "subprocess.run([sys.executable, '-m', 'pip', 'install', '-q', 'cloudflared'], check=True)\n",
        "\n",
        "# ── 3) Define paths ───────────────────────────────────────\n",
        "COMFY = '/content/ComfyUI'\n",
        "\n",
        "# ── 4) Check & abort if already cloned ───────────────────\n",
        "if os.path.isdir(COMFY):\n",
        "    print(\"❌ ERROR: '/content/ComfyUI' already exists.\")\n",
        "    print(\"👉 Remove it first with:\\n   !rm -rf /content/ComfyUI\")\n",
        "    sys.exit(1)\n",
        "\n",
        "# ── 5) Clone & install ────────────────────────────────────\n",
        "subprocess.run(['git', 'clone', 'https://github.com/comfyanonymous/ComfyUI', COMFY], check=True)\n",
        "os.chdir(COMFY)\n",
        "subprocess.run([sys.executable, '-m', 'pip', 'install', '-r', 'requirements.txt'], check=True)\n",
        "\n",
        "print(\"✔ ComfyUI cloned and requirements installed.\")\n"
      ],
      "metadata": {
        "id": "dPPiwjHGEMd-"
      },
      "execution_count": null,
      "outputs": []
    },
    {
      "cell_type": "markdown",
      "source": [
        "#**Download Models By ID**"
      ],
      "metadata": {
        "id": "nMQjyys1xfG-"
      }
    },
    {
      "cell_type": "code",
      "source": [
        "import os, re, sys, requests\n",
        "from tqdm import tqdm\n",
        "\n",
        "API_KEY = \"API_KEY\"  # ← set your CivitAI key\n",
        "BASE     = \"/content/ComfyUI/models\"\n",
        "\n",
        "# ─── Paste your URLs here ────────────────────────────────────────────────\n",
        "ckpt_links = [\n",
        "    \"https://civitai.com/models/372465?modelVersionId=914390\",\n",
        "    \"https://civitai.com/models/439889?modelVersionId=1199750\"\n",
        "\n",
        "]\n",
        "\n",
        "lora_links = [\n",
        "    \"https://civitai.com/models/696418?modelVersionId=779327\",\n",
        "    \"https://civitai.com/models/1327644?modelVersionId=1498957\",\n",
        "    \"https://civitai.com/models/1333749/add-detail-slider\",\n",
        "    \"https://civitai.com/models/669571/pony-add-more-details\",\n",
        "    \"https://civitai.com/models/454172?modelVersionId=505635\",\n",
        "    \"https://civitai.com/models/300005?modelVersionId=436219\",\n",
        "    \"https://civitai.com/models/73756?modelVersionId=703107\"\n",
        "\n",
        "]\n",
        "\n",
        "vae_links = [\n",
        "    \"https://civitai.com/models/199948?modelVersionId=224985\"\n",
        "]\n",
        "\n",
        "embedding_links = [\n",
        "    \"https://civitai.com/models/118418?modelVersionId=134583\",\n",
        "    \"https://civitai.com/models/583583?modelVersionId=651084\"\n",
        "]\n",
        "\n",
        "controlnet_links = [\n",
        "    # add ControlNet URLs here…\n",
        "]\n",
        "# ──────────────────────────────────────────────────────────────────────────\n",
        "\n",
        "if not API_KEY:\n",
        "    print(\"❌ Set your API_KEY\"); sys.exit(1)\n",
        "\n",
        "# prep folders\n",
        "for folder in (\"checkpoints\",\"loras\",\"vae\",\"embeddings\",\"controlnet\"):\n",
        "    os.makedirs(os.path.join(BASE, folder), exist_ok=True)\n",
        "\n",
        "def parse_mid_and_override(url):\n",
        "    m = re.search(r\"models/(\\d+)\", url)\n",
        "    if not m:\n",
        "        raise ValueError(f\"Bad URL: {url}\")\n",
        "    mid = m.group(1)\n",
        "    over = re.search(r\"modelVersionId=(\\d+)\", url)\n",
        "    return mid, (over.group(1) if over else None)\n",
        "\n",
        "def get_vid(mid):\n",
        "    h = {\"Authorization\":f\"Bearer {API_KEY}\"}\n",
        "    r = requests.get(f\"https://civitai.com/api/v1/models/{mid}\", headers=h, timeout=10)\n",
        "    r.raise_for_status()\n",
        "    return r.json()[\"modelVersions\"][0][\"id\"]\n",
        "\n",
        "def fetch_dl_info(vid):\n",
        "    h = {\"Authorization\":f\"Bearer {API_KEY}\"}\n",
        "    r = requests.get(f\"https://civitai.com/api/v1/model-versions/{vid}\", headers=h, timeout=10)\n",
        "    r.raise_for_status()\n",
        "    j = r.json()\n",
        "    return j[\"downloadUrl\"], j[\"files\"][0][\"name\"]\n",
        "\n",
        "def download(url, dest_folder):\n",
        "    try:\n",
        "        mid, override = parse_mid_and_override(url)\n",
        "        vid = override or get_vid(mid)\n",
        "        dl_url, fname = fetch_dl_info(vid)\n",
        "    except Exception as e:\n",
        "        print(f\"✖ Error resolving {url}: {e}\")\n",
        "        return\n",
        "\n",
        "    path = os.path.join(BASE, dest_folder, fname)\n",
        "    r = requests.get(dl_url, headers={\"Authorization\":f\"Bearer {API_KEY}\"}, stream=True)\n",
        "    if r.status_code != 200:\n",
        "        print(f\"✖ Download failed {fname}: HTTP {r.status_code}\")\n",
        "        return\n",
        "\n",
        "    total = int(r.headers.get(\"content-length\", 0))\n",
        "    bar = tqdm(total=total, unit=\"iB\", unit_scale=True, desc=fname)\n",
        "    with open(path, \"wb\") as f:\n",
        "        for chunk in r.iter_content(8192):\n",
        "            f.write(chunk); bar.update(len(chunk))\n",
        "    bar.close()\n",
        "    print(f\"✔ Saved → {path}\")\n",
        "\n",
        "# ─── Kick off downloads ───────────────────────────────────────────────────\n",
        "\n",
        "print(\"Downloading checkpoints…\")\n",
        "for u in ckpt_links:      download(u, \"checkpoints\")\n",
        "\n",
        "print(\"Downloading LoRAs…\")\n",
        "for u in lora_links:      download(u, \"loras\")\n",
        "\n",
        "print(\"Downloading VAEs…\")\n",
        "for u in vae_links:       download(u, \"vae\")\n",
        "\n",
        "print(\"Downloading embeddings…\")\n",
        "for u in embedding_links: download(u, \"embeddings\")\n",
        "\n",
        "print(\"Downloading ControlNets…\")\n",
        "for u in controlnet_links: download(u, \"controlnet\")\n",
        "\n",
        "print(\"\\n✨ All done.\")\n"
      ],
      "metadata": {
        "id": "PhNaaVMlEKTT"
      },
      "execution_count": null,
      "outputs": []
    },
    {
      "cell_type": "markdown",
      "source": [
        "#**Run Comfui And Access it via Cloudflare Tunnel**"
      ],
      "metadata": {
        "id": "Zo4vgBbExyP8"
      }
    },
    {
      "cell_type": "code",
      "source": [
        "# 1) Install Cloudflared CLI\n",
        "!wget -q https://github.com/cloudflare/cloudflared/releases/latest/download/cloudflared-linux-amd64\n",
        "!chmod +x cloudflared-linux-amd64\n",
        "!mv cloudflared-linux-amd64 /usr/local/bin/cloudflared\n",
        "\n",
        "# 2) Ensure we’re in the ComfyUI folder\n",
        "%cd /content/ComfyUI\n",
        "\n",
        "# 3) Launch ComfyUI in the background on 0.0.0.0:8188\n",
        "!nohup python main.py --listen 0.0.0.0 --port 8188 > comfyui.log 2>&1 &\n",
        "\n",
        "# 4) Give it a moment to wake\n",
        "!sleep 10\n",
        "\n",
        "# 5) Open your Cloudflare tunnel\n",
        "!cloudflared tunnel --url http://localhost:8188"
      ],
      "metadata": {
        "id": "mB2FRvrb3wY3"
      },
      "execution_count": null,
      "outputs": []
    }
  ]
}